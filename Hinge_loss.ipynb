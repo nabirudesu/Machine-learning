{
 "cells": [
  {
   "cell_type": "markdown",
   "id": "d7d4ddaa",
   "metadata": {},
   "source": [
    "# Hinge Loss Funtion from scratch"
   ]
  },
  {
   "cell_type": "markdown",
   "id": "c7a2e79f",
   "metadata": {},
   "source": [
    "### Initialising  Data\n",
    "- We initialise the scores directly supposing that we obtain them with <b>F(x)= W.x</b>,where W is the matrix of weights and x is the matrix of inputs\n",
    "- The weights are only initialized randomly to be used later in regularisation. "
   ]
  },
  {
   "cell_type": "code",
   "execution_count": 2,
   "id": "333ba3dc",
   "metadata": {},
   "outputs": [],
   "source": [
    "import numpy as np\n",
    "Weights=np.random.randn(3,3)\n",
    "cat_image_scores=[3.2,5.1,-1.7]\n",
    "car_image_scores=[1.3,4.9,2.0]\n",
    "frog_image_scores=[2.2,2.5,-3.1]"
   ]
  },
  {
   "cell_type": "markdown",
   "id": "c79996a5",
   "metadata": {},
   "source": [
    "### Stucturing Data with Pandas\n",
    "- visualizing the data using pandas dataframes."
   ]
  },
  {
   "cell_type": "code",
   "execution_count": 3,
   "id": "b9989ce4",
   "metadata": {},
   "outputs": [
    {
     "data": {
      "text/html": [
       "<div>\n",
       "<style scoped>\n",
       "    .dataframe tbody tr th:only-of-type {\n",
       "        vertical-align: middle;\n",
       "    }\n",
       "\n",
       "    .dataframe tbody tr th {\n",
       "        vertical-align: top;\n",
       "    }\n",
       "\n",
       "    .dataframe thead th {\n",
       "        text-align: right;\n",
       "    }\n",
       "</style>\n",
       "<table border=\"1\" class=\"dataframe\">\n",
       "  <thead>\n",
       "    <tr style=\"text-align: right;\">\n",
       "      <th></th>\n",
       "      <th>cat_class</th>\n",
       "      <th>carclass</th>\n",
       "      <th>frog_class</th>\n",
       "    </tr>\n",
       "  </thead>\n",
       "  <tbody>\n",
       "    <tr>\n",
       "      <th>Cat_image</th>\n",
       "      <td>3.2</td>\n",
       "      <td>5.1</td>\n",
       "      <td>-1.7</td>\n",
       "    </tr>\n",
       "    <tr>\n",
       "      <th>Car_image</th>\n",
       "      <td>1.3</td>\n",
       "      <td>4.9</td>\n",
       "      <td>2.0</td>\n",
       "    </tr>\n",
       "    <tr>\n",
       "      <th>Frog_image</th>\n",
       "      <td>2.2</td>\n",
       "      <td>2.5</td>\n",
       "      <td>-3.1</td>\n",
       "    </tr>\n",
       "  </tbody>\n",
       "</table>\n",
       "</div>"
      ],
      "text/plain": [
       "            cat_class  carclass  frog_class\n",
       "Cat_image         3.2       5.1        -1.7\n",
       "Car_image         1.3       4.9         2.0\n",
       "Frog_image        2.2       2.5        -3.1"
      ]
     },
     "execution_count": 3,
     "metadata": {},
     "output_type": "execute_result"
    }
   ],
   "source": [
    "import pandas as pd\n",
    "df=pd.DataFrame([cat_image_scores,car_image_scores,frog_image_scores],columns=['cat_class','carclass','frog_class'],index=['Cat_image','Car_image','Frog_image'])\n",
    "df.head()"
   ]
  },
  {
   "cell_type": "markdown",
   "id": "d5500ea8",
   "metadata": {},
   "source": [
    "### Hinge Loss or Multiclass_SVM_loss\n",
    "- This is the verison of the function without regularization"
   ]
  },
  {
   "cell_type": "code",
   "execution_count": 10,
   "id": "ee930ee5",
   "metadata": {},
   "outputs": [],
   "source": [
    "def Hinge_loss(scores_array):\n",
    "    i=0\n",
    "    m=[]\n",
    "    while i<len(scores_array):\n",
    "        for j in scores_array[i]:\n",
    "            if scores_array[i,i] != j:\n",
    "                m.append(max(0,j-scores_array[i,i]+1))\n",
    "        i+=1\n",
    "    return (1/len(scores_array))*sum(m) "
   ]
  },
  {
   "cell_type": "markdown",
   "id": "9a4746b5",
   "metadata": {},
   "source": [
    "### Calculates The full data Hinge Loss"
   ]
  },
  {
   "cell_type": "code",
   "execution_count": 11,
   "id": "cb94b739",
   "metadata": {},
   "outputs": [
    {
     "name": "stdout",
     "output_type": "stream",
     "text": [
      "5.27\n"
     ]
    }
   ],
   "source": [
    "scores_array=np.asarray(df)\n",
    "full_loss=Hinge_loss(scores_array)\n",
    "print(format(full_loss,'.2f'))"
   ]
  },
  {
   "cell_type": "markdown",
   "id": "032af321",
   "metadata": {},
   "source": [
    "### Hinge loss with regularisation"
   ]
  },
  {
   "cell_type": "code",
   "execution_count": 16,
   "id": "d407a05a",
   "metadata": {},
   "outputs": [],
   "source": [
    "def Regularised_Hinge_loss(Scores_array,Weights,learning_rate=None):\n",
    "    i=0\n",
    "    m=[]\n",
    "    while i<len(Scores_array):\n",
    "        for j in Scores_array[i]:\n",
    "            if Scores_array[i,i] != j:\n",
    "                m.append(max(0,j-Scores_array[i,i]+1))\n",
    "        i+=1\n",
    "    reg=0\n",
    "    for i in Weights:\n",
    "        for j in i:\n",
    "            reg+= j**2\n",
    "    return (1/len(Scores_array))*sum(m)+learning_rate*reg"
   ]
  },
  {
   "cell_type": "code",
   "execution_count": 17,
   "id": "e31cdcad",
   "metadata": {},
   "outputs": [
    {
     "data": {
      "text/plain": [
       "5.390438890213408"
      ]
     },
     "execution_count": 17,
     "metadata": {},
     "output_type": "execute_result"
    }
   ],
   "source": [
    "Regularised_Hinge_loss(scores_array,Weights,0.01)"
   ]
  }
 ],
 "metadata": {
  "kernelspec": {
   "display_name": "Python 3",
   "language": "python",
   "name": "python3"
  },
  "language_info": {
   "codemirror_mode": {
    "name": "ipython",
    "version": 3
   },
   "file_extension": ".py",
   "mimetype": "text/x-python",
   "name": "python",
   "nbconvert_exporter": "python",
   "pygments_lexer": "ipython3",
   "version": "3.9.6"
  }
 },
 "nbformat": 4,
 "nbformat_minor": 5
}
