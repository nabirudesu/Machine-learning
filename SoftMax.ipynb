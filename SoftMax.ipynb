{
 "cells": [
  {
   "cell_type": "markdown",
   "id": "f7c9166b",
   "metadata": {},
   "source": [
    "# SoftMax Activation Function"
   ]
  },
  {
   "cell_type": "markdown",
   "id": "a5100f2f",
   "metadata": {},
   "source": [
    "### Initializing Data\n",
    "- We initialise the scores directly supposing that we obtain them with F(x)= W.x,where W is the matrix of weights and x is the matrix of inputs"
   ]
  },
  {
   "cell_type": "code",
   "execution_count": 1,
   "id": "50a1ba20",
   "metadata": {},
   "outputs": [],
   "source": [
    "import numpy as np\n",
    "cat_image_scores=np.asarray([3.2,5.1,-1.7])\n",
    "car_image_scores=np.asarray([1.3,4.9,2.0])\n",
    "frog_image_scores=np.asarray([2.2,2.5,-3.1])"
   ]
  },
  {
   "cell_type": "markdown",
   "id": "9d5057c1",
   "metadata": {},
   "source": [
    "### Structuring Data with Pandas\n",
    "- Visialisation if the data with pandas dataframe"
   ]
  },
  {
   "cell_type": "code",
   "execution_count": 2,
   "id": "2478edaa",
   "metadata": {},
   "outputs": [
    {
     "name": "stdout",
     "output_type": "stream",
     "text": [
      "[[ 3.2  5.1 -1.7]\n",
      " [ 1.3  4.9  2. ]\n",
      " [ 2.2  2.5 -3.1]]\n"
     ]
    },
    {
     "data": {
      "text/html": [
       "<div>\n",
       "<style scoped>\n",
       "    .dataframe tbody tr th:only-of-type {\n",
       "        vertical-align: middle;\n",
       "    }\n",
       "\n",
       "    .dataframe tbody tr th {\n",
       "        vertical-align: top;\n",
       "    }\n",
       "\n",
       "    .dataframe thead th {\n",
       "        text-align: right;\n",
       "    }\n",
       "</style>\n",
       "<table border=\"1\" class=\"dataframe\">\n",
       "  <thead>\n",
       "    <tr style=\"text-align: right;\">\n",
       "      <th></th>\n",
       "      <th>cat_class</th>\n",
       "      <th>carclass</th>\n",
       "      <th>frog_class</th>\n",
       "    </tr>\n",
       "  </thead>\n",
       "  <tbody>\n",
       "    <tr>\n",
       "      <th>Cat_image</th>\n",
       "      <td>3.2</td>\n",
       "      <td>5.1</td>\n",
       "      <td>-1.7</td>\n",
       "    </tr>\n",
       "    <tr>\n",
       "      <th>Car_image</th>\n",
       "      <td>1.3</td>\n",
       "      <td>4.9</td>\n",
       "      <td>2.0</td>\n",
       "    </tr>\n",
       "    <tr>\n",
       "      <th>Frog_image</th>\n",
       "      <td>2.2</td>\n",
       "      <td>2.5</td>\n",
       "      <td>-3.1</td>\n",
       "    </tr>\n",
       "  </tbody>\n",
       "</table>\n",
       "</div>"
      ],
      "text/plain": [
       "            cat_class  carclass  frog_class\n",
       "Cat_image         3.2       5.1        -1.7\n",
       "Car_image         1.3       4.9         2.0\n",
       "Frog_image        2.2       2.5        -3.1"
      ]
     },
     "execution_count": 2,
     "metadata": {},
     "output_type": "execute_result"
    }
   ],
   "source": [
    "import pandas as pd\n",
    "df=pd.DataFrame([cat_image_scores,car_image_scores,frog_image_scores],columns=['cat_class','carclass','frog_class'],index=['Cat_image','Car_image','Frog_image'])\n",
    "scores_array=np.asarray(df)\n",
    "print(scores_array)\n",
    "df.head()"
   ]
  },
  {
   "attachments": {},
   "cell_type": "markdown",
   "id": "5fb2990c",
   "metadata": {},
   "source": [
    "### SoftMax Activation Function\n",
    "- The softmax activation function which is given by <br>\n",
    "<b>softmax(z)_i=(exp(z_i))/(sum(exp(z_j)))</b>\n"
   ]
  },
  {
   "cell_type": "code",
   "execution_count": 3,
   "id": "84b97405",
   "metadata": {},
   "outputs": [],
   "source": [
    "from math import exp\n",
    "def SoftMax(sca):\n",
    "    i=0\n",
    "    denomin=0\n",
    "    nomin=0\n",
    "    probs=[]\n",
    "    if sca.ndim <= 1:\n",
    "        denomin=sum(np.exp(sca))\n",
    "        for k in sca:\n",
    "            nomin=exp(k)\n",
    "            probs.append(nomin/denomin)\n",
    "    else:\n",
    "        while i<len(sca):\n",
    "            prob=[]\n",
    "            denomin=sum(np.exp(sca[i])) \n",
    "            for j in sca[i]:\n",
    "                nomin=exp(j)\n",
    "                prob.append(nomin/denomin)\n",
    "            probs.append(prob)\n",
    "            i+=1\n",
    "    return probs"
   ]
  },
  {
   "cell_type": "markdown",
   "id": "83af1963",
   "metadata": {},
   "source": [
    "### Application of Softmax\n",
    "- The Softmax activation function recieves the final scores of the neural networks(on last layer in general) and converts them into probabilities.\n",
    "- The bigger the score is the bigger the probabilities of the input to belong to a certain class of outputs.\n",
    "- Each element of the array below contain a set of probablities of a certain image to belong to ecery class of images.<br>\n",
    "    for example the first element :[0.12998253901717313, 0.8690495352082657, 0.0009679257745610439]\n",
    "- The image belong the class with the biggest probabilitie.<br>\n",
    "    in the above element the image belong to the seconde class."
   ]
  },
  {
   "cell_type": "code",
   "execution_count": 10,
   "id": "207be70d",
   "metadata": {},
   "outputs": [
    {
     "name": "stdout",
     "output_type": "stream",
     "text": [
      "this are the probablities of each image\n"
     ]
    },
    {
     "data": {
      "text/plain": [
       "[[0.12998253901717313, 0.8690495352082657, 0.0009679257745610439],\n",
       " [0.025244883478939707, 0.9239181640655688, 0.05083695245549154],\n",
       " [0.42465542582674165, 0.5732248667371652, 0.0021197074360931266]]"
      ]
     },
     "execution_count": 10,
     "metadata": {},
     "output_type": "execute_result"
    }
   ],
   "source": [
    "sm=SoftMax(scores_array)\n",
    "print('this are the probablities of each image')\n",
    "sm"
   ]
  },
  {
   "cell_type": "markdown",
   "id": "a1932cfd",
   "metadata": {},
   "source": [
    "## Cross-Caterogical-Entropy\n",
    "- this the loss function usually used for mesuring the multiclass lassification problemes.\n",
    "- It has a simple principe, it mesures how strong is the probabilitie of the image to be in the right class.<br>\n",
    "    * in the previous example, suppose that the postive class is the first class(cat_image_class): <br>\n",
    "    [0.12998253901717313, 0.8690495352082657, 0.0009679257745610439]<br>\n",
    "    * The SoftMax_loss function \"-log(P)\" would mesure the strenght of the first probabilitie (0.12998...),where it converts the probabilitie to a mesurable value."
   ]
  },
  {
   "cell_type": "code",
   "execution_count": 5,
   "id": "fc686070",
   "metadata": {},
   "outputs": [],
   "source": [
    "from math import log\n",
    "def SoftMax_loss(sca):\n",
    "    ss=np.asarray(SoftMax(sca))\n",
    "    loss=[]\n",
    "    if ss.ndim <= 1 :\n",
    "        loss= -np.log(ss[0])\n",
    "    else:\n",
    "        diag=np.diagonal(ss)\n",
    "        for i in diag:\n",
    "            loss.append(-np.log10(i))\n",
    "    return loss"
   ]
  },
  {
   "cell_type": "markdown",
   "id": "7f91ddcc",
   "metadata": {},
   "source": [
    "### The losses of each input"
   ]
  },
  {
   "cell_type": "code",
   "execution_count": 12,
   "id": "4fabf733",
   "metadata": {},
   "outputs": [
    {
     "name": "stdout",
     "output_type": "stream",
     "text": [
      "The loss of each positive class:\n",
      "[0.8861149839839801, 0.03436649465512438, 2.6737240766459403]\n",
      "the loss of all the positive classes:\n",
      "1.1980685184283482\n"
     ]
    }
   ],
   "source": [
    "print('The loss of each positive class:')\n",
    "sml=SoftMax_loss(scores_array)\n",
    "print(sml)\n",
    "print('the loss of all the positive classes:')\n",
    "fsml=sum(sml)/len(sml)\n",
    "print(fsml)"
   ]
  }
 ],
 "metadata": {
  "kernelspec": {
   "display_name": "Python 3",
   "language": "python",
   "name": "python3"
  },
  "language_info": {
   "codemirror_mode": {
    "name": "ipython",
    "version": 3
   },
   "file_extension": ".py",
   "mimetype": "text/x-python",
   "name": "python",
   "nbconvert_exporter": "python",
   "pygments_lexer": "ipython3",
   "version": "3.9.6"
  }
 },
 "nbformat": 4,
 "nbformat_minor": 5
}
